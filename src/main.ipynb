{
 "cells": [
  {
   "cell_type": "code",
   "execution_count": 11,
   "metadata": {},
   "outputs": [
    {
     "name": "stderr",
     "output_type": "stream",
     "text": [
      "C:\\Users\\101150314\\AppData\\Local\\Temp\\ipykernel_9052\\3306190466.py:5: DtypeWarning: Columns (87) have mixed types. Specify dtype option on import or set low_memory=False.\n",
      "  data = pd.read_csv('../data/DSU_output_FINAL.csv', low_memory=True) # Wherever the data is located\n"
     ]
    },
    {
     "name": "stdout",
     "output_type": "stream",
     "text": [
      "   LOB                      LOB Description Market Segment  \\\n",
      "0  IEX               On-Exchange Individual     Individual   \n",
      "1  IEX               On-Exchange Individual     Individual   \n",
      "2  IEX               On-Exchange Individual     Individual   \n",
      "3  IET  INDIVIDUAL ON EXCHANGE TRUE NETWORK     Individual   \n",
      "4  IET  INDIVIDUAL ON EXCHANGE TRUE NETWORK     Individual   \n",
      "\n",
      "                                   Alt Member Number  \\\n",
      "0  85e8dc2d46e9ee108fa6824f7d396cb1485a21f0a13af4...   \n",
      "1  10d8d712b1b9141d1ddf968d5bd55432ebe0e9678e42e3...   \n",
      "2  9fe43d716c24a3d261f6b8cea5f7ac069d2c24e86af4a9...   \n",
      "3  652e0e344530fdeca45f87950ffe13eda06d05e3698ed9...   \n",
      "4  7fa23649e0232b5d17ad88dcc79be76f4c4fbf46efca79...   \n",
      "\n",
      "                                          PAT_MRN_ID  \\\n",
      "0  9e636d32e7e9abe206bb1c1fac8e4790830fc7be170403...   \n",
      "1  32ba5e786c74dd17341925598f9b1517d566c0e0fbbfec...   \n",
      "2  65ba9a358ea0dc28033dd249b7e91bf01b15fe4496703f...   \n",
      "3  0376546f482ec674f9560697321a5718bee318850e0a69...   \n",
      "4  8d934bf5ee69e68b4b5e2191f2a25e3b0b5a50e83dcb59...   \n",
      "\n",
      "                                         Coverage ID  Plan Group ID  \\\n",
      "0  a018f9a3494387d20fc4a8017abc35ba4905f02e62b8b9...            NaN   \n",
      "1  1282ef02a9b1012131ca467aef349da6c9c857d7dfa1c3...            NaN   \n",
      "2  4dde570b49ac187ed19b1b19e71002961c4a244cdaeef2...            NaN   \n",
      "3  81e4950b766d3fda8be8a3bb80e8778d741d09090541ee...            NaN   \n",
      "4  5ee5d5f02142bc88f658e60b0d5d6717b250f9a81e4127...            NaN   \n",
      "\n",
      "   Corporation                     Plan Group Name Gender  ...  \\\n",
      "0       IEXSDM      SD SIMPLICITY $6000 BRONZE IEX      F  ...   \n",
      "1       IEXNDM      ND SIMPLICITY $6000 BRONZE IEX      F  ...   \n",
      "2       IEXNDM  ND SIMPLICITY $4750 SILVER 94% IEX      F  ...   \n",
      "3  TRUE ND IET        ND TRUE SILVER $4750 94% IET      M  ...   \n",
      "4  TRUE ND IET    ND TRUE ALT SILVER $3500 87% IET      F  ...   \n",
      "\n",
      "                                  Referring Provider  Referring Provider Type  \\\n",
      "0  586e5311349e434f94578981add18d71fe381adc7bab78...                      NaN   \n",
      "1  586e5311349e434f94578981add18d71fe381adc7bab78...                      NaN   \n",
      "2  586e5311349e434f94578981add18d71fe381adc7bab78...                      NaN   \n",
      "3  586e5311349e434f94578981add18d71fe381adc7bab78...                      NaN   \n",
      "4  586e5311349e434f94578981add18d71fe381adc7bab78...                      NaN   \n",
      "\n",
      "  Referring Provider Specialty  Referring Provider Service Area  \\\n",
      "0                          NaN                              NaN   \n",
      "1                          NaN                              NaN   \n",
      "2                          NaN                              NaN   \n",
      "3                          NaN                              NaN   \n",
      "4                          NaN                              NaN   \n",
      "\n",
      "   Member Service Area    Provider Service Area  Health System True Plan  \\\n",
      "0                  NaN   South Dakota Northeast            NaN        NO   \n",
      "1                  NaN   North Dakota Northwest            NaN        NO   \n",
      "2                  NaN  South Dakota West River            NaN        NO   \n",
      "3                  NaN                    Fargo            NaN       YES   \n",
      "4                  NaN                 Bismarck            NaN       YES   \n",
      "\n",
      "   Service Type Fraud YN  \n",
      "0           NaN       No  \n",
      "1           NaN       No  \n",
      "2           NaN       No  \n",
      "3           NaN       No  \n",
      "4           NaN       No  \n",
      "\n",
      "[5 rows x 88 columns]\n"
     ]
    }
   ],
   "source": [
    "import pandas as pd\n",
    "\n",
    "\n",
    "# load in the data\n",
    "data = pd.read_csv('../data/DSU_output_FINAL.csv', low_memory=True) # Wherever the data is located\n",
    "\n",
    "print(data.head())"
   ]
  },
  {
   "cell_type": "markdown",
   "metadata": {},
   "source": [
    "Parse the 'Fraud YN' column and convert it to a true/false column. Then, calculate the percentage of frauds in the dataset."
   ]
  },
  {
   "cell_type": "code",
   "execution_count": 14,
   "metadata": {},
   "outputs": [
    {
     "name": "stdout",
     "output_type": "stream",
     "text": [
      "Fraud YN\n",
      "False    0.990299\n",
      "True     0.009701\n",
      "Name: proportion, dtype: float64\n"
     ]
    }
   ],
   "source": [
    "data[\"Fraud YN\"] = data[\"Fraud YN\"].replace(\"No\", False).replace(\"Yes\", True)\n",
    "print(data[\"Fraud YN\"].value_counts(normalize=True))"
   ]
  },
  {
   "cell_type": "markdown",
   "metadata": {},
   "source": [
    "TODO: Create a classifier that can be used to detect fraudulent activity."
   ]
  }
 ],
 "metadata": {
  "kernelspec": {
   "display_name": "Python 3",
   "language": "python",
   "name": "python3"
  },
  "language_info": {
   "codemirror_mode": {
    "name": "ipython",
    "version": 3
   },
   "file_extension": ".py",
   "mimetype": "text/x-python",
   "name": "python",
   "nbconvert_exporter": "python",
   "pygments_lexer": "ipython3",
   "version": "3.11.8"
  }
 },
 "nbformat": 4,
 "nbformat_minor": 2
}
