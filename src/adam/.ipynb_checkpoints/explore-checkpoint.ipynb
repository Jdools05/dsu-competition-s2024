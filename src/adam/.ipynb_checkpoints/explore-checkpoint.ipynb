{
 "cells": [
  {
   "cell_type": "code",
   "execution_count": 1,
   "id": "028f2857-0c7b-4cc6-a5ae-2d0d3bce9582",
   "metadata": {
    "tags": []
   },
   "outputs": [
    {
     "ename": "NameError",
     "evalue": "name 'get_file_name' is not defined",
     "output_type": "error",
     "traceback": [
      "\u001b[1;31m---------------------------------------------------------------------------\u001b[0m",
      "\u001b[1;31mNameError\u001b[0m                                 Traceback (most recent call last)",
      "Cell \u001b[1;32mIn[1], line 4\u001b[0m\n\u001b[0;32m      1\u001b[0m \u001b[38;5;28;01mfrom\u001b[39;00m \u001b[38;5;21;01mfilehandling\u001b[39;00m \u001b[38;5;28;01mimport\u001b[39;00m \u001b[38;5;241m*\u001b[39m\n\u001b[0;32m      2\u001b[0m \u001b[38;5;28;01mimport\u001b[39;00m \u001b[38;5;21;01mpandas\u001b[39;00m \u001b[38;5;28;01mas\u001b[39;00m \u001b[38;5;21;01mpd\u001b[39;00m\n\u001b[1;32m----> 4\u001b[0m data_df \u001b[38;5;241m=\u001b[39m pd\u001b[38;5;241m.\u001b[39mread_csv( get_file_name(\u001b[38;5;241m2022\u001b[39m,\u001b[38;5;241m1\u001b[39m) )\n",
      "\u001b[1;31mNameError\u001b[0m: name 'get_file_name' is not defined"
     ]
    }
   ],
   "source": [
    "from filehandling import *\n",
    "import pandas as pd\n",
    "\n",
    "data_df = pd.read_csv( file_name )"
   ]
  },
  {
   "cell_type": "code",
   "execution_count": null,
   "id": "2bef44b4-215d-4aa5-9a88-ce06b62a1f7f",
   "metadata": {
    "tags": []
   },
   "outputs": [],
   "source": [
    "get_uniques_accross_all()"
   ]
  },
  {
   "cell_type": "code",
   "execution_count": null,
   "id": "3c89e701-a9fd-4e73-b24f-14f95d2442f0",
   "metadata": {
    "tags": []
   },
   "outputs": [],
   "source": [
    "print(data_df.columns[36:38])\n",
    "print(data_df.columns[49:54])"
   ]
  },
  {
   "cell_type": "code",
   "execution_count": null,
   "id": "1489c627-09ee-43ee-b3fb-4c92f7320d6f",
   "metadata": {
    "tags": []
   },
   "outputs": [],
   "source": [
    "min(data_df[\"Billed Amount\"])"
   ]
  },
  {
   "cell_type": "code",
   "execution_count": null,
   "id": "9dcab049-f360-46a4-b26a-8290b60bbbe0",
   "metadata": {},
   "outputs": [],
   "source": [
    "#get_dif_labels()"
   ]
  }
 ],
 "metadata": {
  "kernelspec": {
   "display_name": "Python 3 (ipykernel)",
   "language": "python",
   "name": "python3"
  },
  "language_info": {
   "codemirror_mode": {
    "name": "ipython",
    "version": 3
   },
   "file_extension": ".py",
   "mimetype": "text/x-python",
   "name": "python",
   "nbconvert_exporter": "python",
   "pygments_lexer": "ipython3",
   "version": "3.11.4"
  }
 },
 "nbformat": 4,
 "nbformat_minor": 5
}
