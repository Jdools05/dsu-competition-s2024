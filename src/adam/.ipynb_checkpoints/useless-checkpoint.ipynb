{
 "cells": [
  {
   "cell_type": "code",
   "execution_count": 1,
   "id": "5cfb939f-2f76-4170-9874-c715626d34ae",
   "metadata": {},
   "outputs": [
    {
     "name": "stderr",
     "output_type": "stream",
     "text": [
      "C:\\Users\\101143468\\AppData\\Local\\Temp\\ipykernel_2952\\3893580574.py:5: DtypeWarning: Columns (87) have mixed types. Specify dtype option on import or set low_memory=False.\n",
      "  df = pd.read_csv( file_name )\n"
     ]
    }
   ],
   "source": [
    "import pandas as pd\n",
    "\n",
    "file_name = \"../../data/DSU_output_FINAL.csv\"\n",
    "\n",
    "df = pd.read_csv( file_name )"
   ]
  },
  {
   "cell_type": "code",
   "execution_count": 9,
   "id": "f9abbc0f-54ba-474c-9c05-d669f7c1c937",
   "metadata": {
    "tags": []
   },
   "outputs": [],
   "source": [
    "file_name = \"../../data/DSU_output_FINAL.csv\"\n",
    "\n",
    "# returns a list of labels of only nan\n",
    "def drop_useless( df ):\n",
    "    useless = []\n",
    "    for l in df.columns:\n",
    "        if len( df[l].unique() ) == 1:\n",
    "            useless.append( l )\n",
    "   # df = df.drop( columns=useless )\n",
    "    return useless\n",
    "useless = drop_useless( df )"
   ]
  },
  {
   "cell_type": "code",
   "execution_count": 10,
   "id": "7cd4ce3b-6375-4575-b0e5-bd93c29a04aa",
   "metadata": {
    "tags": []
   },
   "outputs": [
    {
     "data": {
      "text/plain": [
       "['Market Segment',\n",
       " 'Plan Group ID',\n",
       " 'Birth Date',\n",
       " 'Member Age',\n",
       " 'Death Date',\n",
       " 'Member City',\n",
       " 'Member State',\n",
       " 'Member Zip Code',\n",
       " 'Service Year Month',\n",
       " 'Paid Year Month',\n",
       " 'Paid Month',\n",
       " 'Allowed Amount',\n",
       " 'Contract Allowed Amount',\n",
       " 'Paid Amount',\n",
       " 'Discount Amount',\n",
       " 'Deductible Amount',\n",
       " 'Coinsurance Amount',\n",
       " 'Copayment Amount',\n",
       " 'Patient Portion',\n",
       " 'Total Allowed Amount',\n",
       " 'Total Paid Amount',\n",
       " 'Member Network Name',\n",
       " 'Facility Status',\n",
       " 'Hospital or Clinic Name',\n",
       " 'Place of Service City',\n",
       " 'Place of Service Zip Code',\n",
       " 'Provider NPI',\n",
       " 'Provider Name',\n",
       " 'Contract ID',\n",
       " 'Contract Name',\n",
       " 'Pricing ID',\n",
       " 'Pricing Type',\n",
       " 'Member Service Area',\n",
       " 'Health System',\n",
       " 'Service Type']"
      ]
     },
     "execution_count": 10,
     "metadata": {},
     "output_type": "execute_result"
    }
   ],
   "source": [
    "useless"
   ]
  },
  {
   "cell_type": "code",
   "execution_count": 11,
   "id": "86b11d22-9eca-42b6-bd6d-11763c95169e",
   "metadata": {
    "tags": []
   },
   "outputs": [],
   "source": [
    "newdf = df.drop(useless, axis=1)"
   ]
  },
  {
   "cell_type": "code",
   "execution_count": 12,
   "id": "ddd82122-9de0-47b1-95e2-b87bb00af637",
   "metadata": {
    "tags": []
   },
   "outputs": [
    {
     "data": {
      "text/plain": [
       "(2374928, 53)"
      ]
     },
     "execution_count": 12,
     "metadata": {},
     "output_type": "execute_result"
    }
   ],
   "source": [
    "newdf.shape"
   ]
  },
  {
   "cell_type": "code",
   "execution_count": 13,
   "id": "c150d531-8715-41bd-a1cd-dc759877761e",
   "metadata": {
    "tags": []
   },
   "outputs": [],
   "source": [
    "# new_file = \"../../data/NewDSU.csv\"\n",
    "# df.to_csv(new_file)"
   ]
  },
  {
   "cell_type": "code",
   "execution_count": null,
   "id": "7487eea4-96cc-4994-a26f-08418a3a5f37",
   "metadata": {},
   "outputs": [],
   "source": []
  }
 ],
 "metadata": {
  "kernelspec": {
   "display_name": "Python 3 (ipykernel)",
   "language": "python",
   "name": "python3"
  },
  "language_info": {
   "codemirror_mode": {
    "name": "ipython",
    "version": 3
   },
   "file_extension": ".py",
   "mimetype": "text/x-python",
   "name": "python",
   "nbconvert_exporter": "python",
   "pygments_lexer": "ipython3",
   "version": "3.11.4"
  }
 },
 "nbformat": 4,
 "nbformat_minor": 5
}
