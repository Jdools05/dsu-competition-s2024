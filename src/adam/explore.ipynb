{
 "cells": [
  {
   "cell_type": "code",
   "execution_count": 1,
   "id": "028f2857-0c7b-4cc6-a5ae-2d0d3bce9582",
   "metadata": {
    "tags": []
   },
   "outputs": [
    {
     "name": "stderr",
     "output_type": "stream",
     "text": [
      "C:\\Users\\101143468\\AppData\\Local\\Temp\\ipykernel_4588\\1919324147.py:4: DtypeWarning: Columns (87) have mixed types. Specify dtype option on import or set low_memory=False.\n",
      "  data_df = pd.read_csv( file_name )\n"
     ]
    }
   ],
   "source": [
    "from filehandling import *\n",
    "import pandas as pd\n",
    "\n",
    "data_df = pd.read_csv( file_name )"
   ]
  },
  {
   "cell_type": "code",
   "execution_count": 2,
   "id": "2bef44b4-215d-4aa5-9a88-ce06b62a1f7f",
   "metadata": {
    "tags": []
   },
   "outputs": [
    {
     "name": "stdout",
     "output_type": "stream",
     "text": [
      "getting unique\n"
     ]
    },
    {
     "name": "stderr",
     "output_type": "stream",
     "text": [
      "C:\\Users\\101143468\\dsu-competition-s2024\\src\\adam\\filehandling.py:27: DtypeWarning: Columns (87) have mixed types. Specify dtype option on import or set low_memory=False.\n",
      "  df = pd.read_csv( file_name )\n"
     ]
    },
    {
     "name": "stdout",
     "output_type": "stream",
     "text": [
      "writing to unique\n",
      "finished writing to unique\n"
     ]
    }
   ],
   "source": [
    "get_uniques_accross_all()"
   ]
  },
  {
   "cell_type": "code",
   "execution_count": 3,
   "id": "3c89e701-a9fd-4e73-b24f-14f95d2442f0",
   "metadata": {
    "tags": []
   },
   "outputs": [
    {
     "name": "stdout",
     "output_type": "stream",
     "text": [
      "Index(['Quantity', 'Network Status'], dtype='object')\n",
      "Index(['Hospital or Clinic Name', 'Place of Service City',\n",
      "       'Place of Service Zip Code', 'Place of Service State', 'Provider ID'],\n",
      "      dtype='object')\n"
     ]
    }
   ],
   "source": [
    "print(data_df.columns[36:38])\n",
    "print(data_df.columns[49:54])"
   ]
  },
  {
   "cell_type": "code",
   "execution_count": 4,
   "id": "1489c627-09ee-43ee-b3fb-4c92f7320d6f",
   "metadata": {
    "tags": []
   },
   "outputs": [
    {
     "data": {
      "text/plain": [
       "-714.0"
      ]
     },
     "execution_count": 4,
     "metadata": {},
     "output_type": "execute_result"
    }
   ],
   "source": [
    "min(data_df[\"Billed Amount\"])"
   ]
  },
  {
   "cell_type": "code",
   "execution_count": 5,
   "id": "9dcab049-f360-46a4-b26a-8290b60bbbe0",
   "metadata": {},
   "outputs": [],
   "source": [
    "#get_dif_labels()"
   ]
  }
 ],
 "metadata": {
  "kernelspec": {
   "display_name": "Python 3 (ipykernel)",
   "language": "python",
   "name": "python3"
  },
  "language_info": {
   "codemirror_mode": {
    "name": "ipython",
    "version": 3
   },
   "file_extension": ".py",
   "mimetype": "text/x-python",
   "name": "python",
   "nbconvert_exporter": "python",
   "pygments_lexer": "ipython3",
   "version": "3.11.4"
  }
 },
 "nbformat": 4,
 "nbformat_minor": 5
}
