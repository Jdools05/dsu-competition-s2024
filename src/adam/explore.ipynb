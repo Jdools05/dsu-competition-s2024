{
 "cells": [
  {
   "cell_type": "code",
   "execution_count": 1,
   "id": "028f2857-0c7b-4cc6-a5ae-2d0d3bce9582",
   "metadata": {
    "tags": []
   },
   "outputs": [
    {
     "name": "stderr",
     "output_type": "stream",
     "text": [
      "/tmp/ipykernel_9329/1919324147.py:4: DtypeWarning: Columns (87) have mixed types. Specify dtype option on import or set low_memory=False.\n",
      "  data_df = pd.read_csv( file_name )\n"
     ]
    }
   ],
   "source": [
    "from filehandling import *\n",
    "import pandas as pd\n",
    "\n",
    "data_df = pd.read_csv( file_name )"
   ]
  },
  {
   "cell_type": "code",
   "execution_count": 7,
   "id": "1eb9c33b-b33c-4546-81e7-22e0ecd0fec2",
   "metadata": {},
   "outputs": [
    {
     "data": {
      "text/html": [
       "<div>\n",
       "<style scoped>\n",
       "    .dataframe tbody tr th:only-of-type {\n",
       "        vertical-align: middle;\n",
       "    }\n",
       "\n",
       "    .dataframe tbody tr th {\n",
       "        vertical-align: top;\n",
       "    }\n",
       "\n",
       "    .dataframe thead th {\n",
       "        text-align: right;\n",
       "    }\n",
       "</style>\n",
       "<table border=\"1\" class=\"dataframe\">\n",
       "  <thead>\n",
       "    <tr style=\"text-align: right;\">\n",
       "      <th></th>\n",
       "      <th>LOB</th>\n",
       "      <th>LOB Description</th>\n",
       "      <th>Market Segment</th>\n",
       "      <th>Alt Member Number</th>\n",
       "      <th>PAT_MRN_ID</th>\n",
       "      <th>Coverage ID</th>\n",
       "      <th>Plan Group ID</th>\n",
       "      <th>Corporation</th>\n",
       "      <th>Plan Group Name</th>\n",
       "      <th>Gender</th>\n",
       "      <th>...</th>\n",
       "      <th>Referring Provider</th>\n",
       "      <th>Referring Provider Type</th>\n",
       "      <th>Referring Provider Specialty</th>\n",
       "      <th>Referring Provider Service Area</th>\n",
       "      <th>Member Service Area</th>\n",
       "      <th>Provider Service Area</th>\n",
       "      <th>Health System</th>\n",
       "      <th>True Plan</th>\n",
       "      <th>Service Type</th>\n",
       "      <th>Fraud YN</th>\n",
       "    </tr>\n",
       "  </thead>\n",
       "  <tbody>\n",
       "    <tr>\n",
       "      <th>0</th>\n",
       "      <td>IEX</td>\n",
       "      <td>On-Exchange Individual</td>\n",
       "      <td>Individual</td>\n",
       "      <td>85e8dc2d46e9ee108fa6824f7d396cb1485a21f0a13af4...</td>\n",
       "      <td>9e636d32e7e9abe206bb1c1fac8e4790830fc7be170403...</td>\n",
       "      <td>a018f9a3494387d20fc4a8017abc35ba4905f02e62b8b9...</td>\n",
       "      <td>NaN</td>\n",
       "      <td>IEXSDM</td>\n",
       "      <td>SD SIMPLICITY $6000 BRONZE IEX</td>\n",
       "      <td>F</td>\n",
       "      <td>...</td>\n",
       "      <td>586e5311349e434f94578981add18d71fe381adc7bab78...</td>\n",
       "      <td>NaN</td>\n",
       "      <td>NaN</td>\n",
       "      <td>NaN</td>\n",
       "      <td>NaN</td>\n",
       "      <td>South Dakota Northeast</td>\n",
       "      <td>NaN</td>\n",
       "      <td>NO</td>\n",
       "      <td>NaN</td>\n",
       "      <td>No</td>\n",
       "    </tr>\n",
       "    <tr>\n",
       "      <th>1</th>\n",
       "      <td>IEX</td>\n",
       "      <td>On-Exchange Individual</td>\n",
       "      <td>Individual</td>\n",
       "      <td>10d8d712b1b9141d1ddf968d5bd55432ebe0e9678e42e3...</td>\n",
       "      <td>32ba5e786c74dd17341925598f9b1517d566c0e0fbbfec...</td>\n",
       "      <td>1282ef02a9b1012131ca467aef349da6c9c857d7dfa1c3...</td>\n",
       "      <td>NaN</td>\n",
       "      <td>IEXNDM</td>\n",
       "      <td>ND SIMPLICITY $6000 BRONZE IEX</td>\n",
       "      <td>F</td>\n",
       "      <td>...</td>\n",
       "      <td>586e5311349e434f94578981add18d71fe381adc7bab78...</td>\n",
       "      <td>NaN</td>\n",
       "      <td>NaN</td>\n",
       "      <td>NaN</td>\n",
       "      <td>NaN</td>\n",
       "      <td>North Dakota Northwest</td>\n",
       "      <td>NaN</td>\n",
       "      <td>NO</td>\n",
       "      <td>NaN</td>\n",
       "      <td>No</td>\n",
       "    </tr>\n",
       "    <tr>\n",
       "      <th>2</th>\n",
       "      <td>IEX</td>\n",
       "      <td>On-Exchange Individual</td>\n",
       "      <td>Individual</td>\n",
       "      <td>9fe43d716c24a3d261f6b8cea5f7ac069d2c24e86af4a9...</td>\n",
       "      <td>65ba9a358ea0dc28033dd249b7e91bf01b15fe4496703f...</td>\n",
       "      <td>4dde570b49ac187ed19b1b19e71002961c4a244cdaeef2...</td>\n",
       "      <td>NaN</td>\n",
       "      <td>IEXNDM</td>\n",
       "      <td>ND SIMPLICITY $4750 SILVER 94% IEX</td>\n",
       "      <td>F</td>\n",
       "      <td>...</td>\n",
       "      <td>586e5311349e434f94578981add18d71fe381adc7bab78...</td>\n",
       "      <td>NaN</td>\n",
       "      <td>NaN</td>\n",
       "      <td>NaN</td>\n",
       "      <td>NaN</td>\n",
       "      <td>South Dakota West River</td>\n",
       "      <td>NaN</td>\n",
       "      <td>NO</td>\n",
       "      <td>NaN</td>\n",
       "      <td>No</td>\n",
       "    </tr>\n",
       "    <tr>\n",
       "      <th>3</th>\n",
       "      <td>IET</td>\n",
       "      <td>INDIVIDUAL ON EXCHANGE TRUE NETWORK</td>\n",
       "      <td>Individual</td>\n",
       "      <td>652e0e344530fdeca45f87950ffe13eda06d05e3698ed9...</td>\n",
       "      <td>0376546f482ec674f9560697321a5718bee318850e0a69...</td>\n",
       "      <td>81e4950b766d3fda8be8a3bb80e8778d741d09090541ee...</td>\n",
       "      <td>NaN</td>\n",
       "      <td>TRUE ND IET</td>\n",
       "      <td>ND TRUE SILVER $4750 94% IET</td>\n",
       "      <td>M</td>\n",
       "      <td>...</td>\n",
       "      <td>586e5311349e434f94578981add18d71fe381adc7bab78...</td>\n",
       "      <td>NaN</td>\n",
       "      <td>NaN</td>\n",
       "      <td>NaN</td>\n",
       "      <td>NaN</td>\n",
       "      <td>Fargo</td>\n",
       "      <td>NaN</td>\n",
       "      <td>YES</td>\n",
       "      <td>NaN</td>\n",
       "      <td>No</td>\n",
       "    </tr>\n",
       "    <tr>\n",
       "      <th>4</th>\n",
       "      <td>IET</td>\n",
       "      <td>INDIVIDUAL ON EXCHANGE TRUE NETWORK</td>\n",
       "      <td>Individual</td>\n",
       "      <td>7fa23649e0232b5d17ad88dcc79be76f4c4fbf46efca79...</td>\n",
       "      <td>8d934bf5ee69e68b4b5e2191f2a25e3b0b5a50e83dcb59...</td>\n",
       "      <td>5ee5d5f02142bc88f658e60b0d5d6717b250f9a81e4127...</td>\n",
       "      <td>NaN</td>\n",
       "      <td>TRUE ND IET</td>\n",
       "      <td>ND TRUE ALT SILVER $3500 87% IET</td>\n",
       "      <td>F</td>\n",
       "      <td>...</td>\n",
       "      <td>586e5311349e434f94578981add18d71fe381adc7bab78...</td>\n",
       "      <td>NaN</td>\n",
       "      <td>NaN</td>\n",
       "      <td>NaN</td>\n",
       "      <td>NaN</td>\n",
       "      <td>Bismarck</td>\n",
       "      <td>NaN</td>\n",
       "      <td>YES</td>\n",
       "      <td>NaN</td>\n",
       "      <td>No</td>\n",
       "    </tr>\n",
       "  </tbody>\n",
       "</table>\n",
       "<p>5 rows × 88 columns</p>\n",
       "</div>"
      ],
      "text/plain": [
       "   LOB                      LOB Description Market Segment  \\\n",
       "0  IEX               On-Exchange Individual     Individual   \n",
       "1  IEX               On-Exchange Individual     Individual   \n",
       "2  IEX               On-Exchange Individual     Individual   \n",
       "3  IET  INDIVIDUAL ON EXCHANGE TRUE NETWORK     Individual   \n",
       "4  IET  INDIVIDUAL ON EXCHANGE TRUE NETWORK     Individual   \n",
       "\n",
       "                                   Alt Member Number  \\\n",
       "0  85e8dc2d46e9ee108fa6824f7d396cb1485a21f0a13af4...   \n",
       "1  10d8d712b1b9141d1ddf968d5bd55432ebe0e9678e42e3...   \n",
       "2  9fe43d716c24a3d261f6b8cea5f7ac069d2c24e86af4a9...   \n",
       "3  652e0e344530fdeca45f87950ffe13eda06d05e3698ed9...   \n",
       "4  7fa23649e0232b5d17ad88dcc79be76f4c4fbf46efca79...   \n",
       "\n",
       "                                          PAT_MRN_ID  \\\n",
       "0  9e636d32e7e9abe206bb1c1fac8e4790830fc7be170403...   \n",
       "1  32ba5e786c74dd17341925598f9b1517d566c0e0fbbfec...   \n",
       "2  65ba9a358ea0dc28033dd249b7e91bf01b15fe4496703f...   \n",
       "3  0376546f482ec674f9560697321a5718bee318850e0a69...   \n",
       "4  8d934bf5ee69e68b4b5e2191f2a25e3b0b5a50e83dcb59...   \n",
       "\n",
       "                                         Coverage ID  Plan Group ID  \\\n",
       "0  a018f9a3494387d20fc4a8017abc35ba4905f02e62b8b9...            NaN   \n",
       "1  1282ef02a9b1012131ca467aef349da6c9c857d7dfa1c3...            NaN   \n",
       "2  4dde570b49ac187ed19b1b19e71002961c4a244cdaeef2...            NaN   \n",
       "3  81e4950b766d3fda8be8a3bb80e8778d741d09090541ee...            NaN   \n",
       "4  5ee5d5f02142bc88f658e60b0d5d6717b250f9a81e4127...            NaN   \n",
       "\n",
       "   Corporation                     Plan Group Name Gender  ...  \\\n",
       "0       IEXSDM      SD SIMPLICITY $6000 BRONZE IEX      F  ...   \n",
       "1       IEXNDM      ND SIMPLICITY $6000 BRONZE IEX      F  ...   \n",
       "2       IEXNDM  ND SIMPLICITY $4750 SILVER 94% IEX      F  ...   \n",
       "3  TRUE ND IET        ND TRUE SILVER $4750 94% IET      M  ...   \n",
       "4  TRUE ND IET    ND TRUE ALT SILVER $3500 87% IET      F  ...   \n",
       "\n",
       "                                  Referring Provider  Referring Provider Type  \\\n",
       "0  586e5311349e434f94578981add18d71fe381adc7bab78...                      NaN   \n",
       "1  586e5311349e434f94578981add18d71fe381adc7bab78...                      NaN   \n",
       "2  586e5311349e434f94578981add18d71fe381adc7bab78...                      NaN   \n",
       "3  586e5311349e434f94578981add18d71fe381adc7bab78...                      NaN   \n",
       "4  586e5311349e434f94578981add18d71fe381adc7bab78...                      NaN   \n",
       "\n",
       "  Referring Provider Specialty  Referring Provider Service Area  \\\n",
       "0                          NaN                              NaN   \n",
       "1                          NaN                              NaN   \n",
       "2                          NaN                              NaN   \n",
       "3                          NaN                              NaN   \n",
       "4                          NaN                              NaN   \n",
       "\n",
       "   Member Service Area    Provider Service Area  Health System True Plan  \\\n",
       "0                  NaN   South Dakota Northeast            NaN        NO   \n",
       "1                  NaN   North Dakota Northwest            NaN        NO   \n",
       "2                  NaN  South Dakota West River            NaN        NO   \n",
       "3                  NaN                    Fargo            NaN       YES   \n",
       "4                  NaN                 Bismarck            NaN       YES   \n",
       "\n",
       "   Service Type Fraud YN  \n",
       "0           NaN       No  \n",
       "1           NaN       No  \n",
       "2           NaN       No  \n",
       "3           NaN       No  \n",
       "4           NaN       No  \n",
       "\n",
       "[5 rows x 88 columns]"
      ]
     },
     "execution_count": 7,
     "metadata": {},
     "output_type": "execute_result"
    }
   ],
   "source": [
    "data_df.head()"
   ]
  },
  {
   "cell_type": "code",
   "execution_count": 3,
   "id": "2bef44b4-215d-4aa5-9a88-ce06b62a1f7f",
   "metadata": {
    "tags": []
   },
   "outputs": [
    {
     "name": "stdout",
     "output_type": "stream",
     "text": [
      "getting unique\n",
      "writing to unique\n",
      "finished writing to unique\n"
     ]
    }
   ],
   "source": [
    "# make a text file, unique.txt, that gets some basic label information\n",
    "get_uniques( data_df )"
   ]
  },
  {
   "cell_type": "code",
   "execution_count": 4,
   "id": "3c89e701-a9fd-4e73-b24f-14f95d2442f0",
   "metadata": {
    "tags": []
   },
   "outputs": [
    {
     "name": "stdout",
     "output_type": "stream",
     "text": [
      "Fraud YN\n"
     ]
    }
   ],
   "source": [
    "print(data_df.columns[87])"
   ]
  },
  {
   "cell_type": "code",
   "execution_count": null,
   "id": "1489c627-09ee-43ee-b3fb-4c92f7320d6f",
   "metadata": {
    "tags": []
   },
   "outputs": [],
   "source": [
    "min(data_df[\"Billed Amount\"])"
   ]
  },
  {
   "cell_type": "code",
   "execution_count": 6,
   "id": "f20b9680-66bb-421e-b845-935f25b0bbe4",
   "metadata": {},
   "outputs": [
    {
     "data": {
      "text/plain": [
       "LOB                       object\n",
       "LOB Description           object\n",
       "Market Segment            object\n",
       "Alt Member Number         object\n",
       "PAT_MRN_ID                object\n",
       "                          ...   \n",
       "Provider Service Area     object\n",
       "Health System            float64\n",
       "True Plan                 object\n",
       "Service Type             float64\n",
       "Fraud YN                  object\n",
       "Length: 88, dtype: object"
      ]
     },
     "execution_count": 6,
     "metadata": {},
     "output_type": "execute_result"
    }
   ],
   "source": [
    "data_df.dtypes"
   ]
  },
  {
   "cell_type": "code",
   "execution_count": 23,
   "id": "0efcfcfa-507a-49ec-b1bf-4fd916fb72b4",
   "metadata": {},
   "outputs": [],
   "source": [
    "#write a first draft of what the best dtypes should be and store in txt\n",
    "with open(\"dtype.txt\",\"w\") as fout:\n",
    "    \n",
    "    fout.write(\"{\\n\")\n",
    "    \n",
    "    for i in range( len( data_df.columns ) ):\n",
    "\n",
    "        label = data_df.columns[i]\n",
    "\n",
    "        # if the default data type is \"object\", we really just \n",
    "        # want a string\n",
    "        # otherwise we can keep the automatically assigned\n",
    "        # data type.\n",
    "        corrected_type = \"str\"\n",
    "        if data_df.dtypes[label] != object:\n",
    "            # use np. infront of datatype because float64 and int64\n",
    "            # are not in standard python\n",
    "            corrected_type = \"np.\" + str( data_df.dtypes[label] )\n",
    "        fout.write(f\"    '{label}' : {corrected_type}\")\n",
    "\n",
    "        if( i + 1 != len( data_df.columns ) ):\n",
    "            fout.write(\",\\n\")\n",
    "        \n",
    "    fout.write(\"\\n}\\n\")"
   ]
  }
 ],
 "metadata": {
  "kernelspec": {
   "display_name": "Python 3 (ipykernel)",
   "language": "python",
   "name": "python3"
  },
  "language_info": {
   "codemirror_mode": {
    "name": "ipython",
    "version": 3
   },
   "file_extension": ".py",
   "mimetype": "text/x-python",
   "name": "python",
   "nbconvert_exporter": "python",
   "pygments_lexer": "ipython3",
   "version": "3.11.6"
  }
 },
 "nbformat": 4,
 "nbformat_minor": 5
}
