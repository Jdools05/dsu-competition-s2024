{
 "cells": [
  {
   "cell_type": "code",
   "execution_count": 1,
   "id": "55d5add6-626e-42e8-b7fe-6dfe50b69223",
   "metadata": {},
   "outputs": [],
   "source": [
    "import pandas as pd\n",
    "import numpy as np"
   ]
  },
  {
   "cell_type": "code",
   "execution_count": 2,
   "id": "80c1089e-96a7-405f-90e4-f5cd11992240",
   "metadata": {},
   "outputs": [],
   "source": [
    "#the datatypes we should read the dataframe in with\n",
    "ideal_dtype = {\n",
    "    'LOB' : str,\n",
    "    'LOB Description' : str,\n",
    "    'Market Segment' : str,\n",
    "    'Alt Member Number' : str,\n",
    "    'PAT_MRN_ID' : str,\n",
    "    'Coverage ID' : str,\n",
    "    'Plan Group ID' : np.float64,\n",
    "    'Corporation' : str,\n",
    "    'Plan Group Name' : str,\n",
    "    'Gender' : str,\n",
    "    'Birth Date' : np.float64,\n",
    "    'Member Age' : np.float64,\n",
    "    'Member Age Group' : str,\n",
    "    'Death Date' : np.float64,\n",
    "    'Member City' : np.float64,\n",
    "    'Member State' : np.float64,\n",
    "    'Member Zip Code' : np.float64,\n",
    "    'Claim ID' : str,\n",
    "    'Claim Line' : np.int64,\n",
    "    'Service Date' : str,\n",
    "    'Service Year Month' : np.float64,\n",
    "    'Received Date' : str,\n",
    "    'Paid Date' : str,\n",
    "    'Paid Year Month' : np.float64,\n",
    "    'Paid Month' : np.float64,\n",
    "    'Billed Amount' : np.float64,\n",
    "    'Allowed Amount' : np.float64,\n",
    "    'Contract Allowed Amount' : np.float64,\n",
    "    'Paid Amount' : np.float64,\n",
    "    'Discount Amount' : np.float64,\n",
    "    'Deductible Amount' : np.float64,\n",
    "    'Coinsurance Amount' : np.float64,\n",
    "    'Copayment Amount' : np.float64,\n",
    "    'Patient Portion' : np.float64,\n",
    "    'Total Allowed Amount' : np.float64,\n",
    "    'Total Paid Amount' : np.float64,\n",
    "    'Quantity' : np.float64,\n",
    "    'Network Status' : str,\n",
    "    'Member Network Name' : np.float64,\n",
    "    'Claim Form Type' : str,\n",
    "    'Claim Type' : str,\n",
    "    'Major Category' : str,\n",
    "    'Minor Category' : str,\n",
    "    'Place of Service Code' : np.float64,\n",
    "    'Place of Service Type' : str,\n",
    "    'Facility Status' : np.float64,\n",
    "    'Vendor ID' : str,\n",
    "    'Vendor NPI' : str,\n",
    "    'Vendor Tax ID' : str,\n",
    "    'Hospital or Clinic Name' : np.float64,\n",
    "    'Place of Service City' : np.float64,\n",
    "    'Place of Service Zip Code' : np.float64,\n",
    "    'Place of Service State' : str,\n",
    "    'Provider ID' : str,\n",
    "    'Provider NPI' : np.float64,\n",
    "    'Provider Name' : np.float64,\n",
    "    'Provider Specialty' : str,\n",
    "    'ICD10 Code' : str,\n",
    "    'Primary Diagnosis' : str,\n",
    "    'DRG Number' : str,\n",
    "    'DRG Name' : str,\n",
    "    'Procedure Code' : str,\n",
    "    'Procedure Name' : str,\n",
    "    'Revenue Code' : np.float64,\n",
    "    'Revenue Code Name' : str,\n",
    "    'Modifiers' : str,\n",
    "    'DRG Pricing YN' : str,\n",
    "    'Method to Pay Code' : np.int64,\n",
    "    'Method to Pay' : str,\n",
    "    'Contract ID' : np.float64,\n",
    "    'Contract Name' : np.float64,\n",
    "    'Pricing ID' : np.float64,\n",
    "    'Pricing Type' : np.float64,\n",
    "    'Referral Status' : str,\n",
    "    'Referral Type' : str,\n",
    "    'Referral ID' : str,\n",
    "    'Referral Reason' : str,\n",
    "    'Referral Date' : str,\n",
    "    'Referring Provider' : str,\n",
    "    'Referring Provider Type' : str,\n",
    "    'Referring Provider Specialty' : str,\n",
    "    'Referring Provider Service Area' : str,\n",
    "    'Member Service Area' : np.float64,\n",
    "    'Provider Service Area' : str,\n",
    "    'Health System' : np.float64,\n",
    "    'True Plan' : str,\n",
    "    'Service Type' : np.float64,\n",
    "    'Fraud YN' : str\n",
    "}\n",
    "\n"
   ]
  },
  {
   "cell_type": "code",
   "execution_count": 3,
   "id": "5cfb939f-2f76-4170-9874-c715626d34ae",
   "metadata": {},
   "outputs": [],
   "source": [
    "import pandas as pd\n",
    "\n",
    "file_name = \"../../data/DSU_output_FINAL.csv\"\n",
    "\n",
    "df = pd.read_csv( file_name, dtype = ideal_dtype )"
   ]
  },
  {
   "cell_type": "code",
   "execution_count": 4,
   "id": "f9abbc0f-54ba-474c-9c05-d669f7c1c937",
   "metadata": {
    "tags": []
   },
   "outputs": [],
   "source": [
    "file_name = \"../../data/DSU_output_FINAL.csv\"\n",
    "\n",
    "# returns a list of labels of only nan\n",
    "def drop_useless( df ):\n",
    "    useless = []\n",
    "    for label in df.columns:\n",
    "        # if the label only has one unique value\n",
    "        # it is not worth keeping\n",
    "        if len( df[label].unique() ) == 1:\n",
    "            useless.append( label )\n",
    "    return useless\n",
    "useless = drop_useless( df )"
   ]
  },
  {
   "cell_type": "code",
   "execution_count": 5,
   "id": "7cd4ce3b-6375-4575-b0e5-bd93c29a04aa",
   "metadata": {
    "tags": []
   },
   "outputs": [
    {
     "data": {
      "text/plain": [
       "['Market Segment',\n",
       " 'Plan Group ID',\n",
       " 'Birth Date',\n",
       " 'Member Age',\n",
       " 'Death Date',\n",
       " 'Member City',\n",
       " 'Member State',\n",
       " 'Member Zip Code',\n",
       " 'Service Year Month',\n",
       " 'Paid Year Month',\n",
       " 'Paid Month',\n",
       " 'Allowed Amount',\n",
       " 'Contract Allowed Amount',\n",
       " 'Paid Amount',\n",
       " 'Discount Amount',\n",
       " 'Deductible Amount',\n",
       " 'Coinsurance Amount',\n",
       " 'Copayment Amount',\n",
       " 'Patient Portion',\n",
       " 'Total Allowed Amount',\n",
       " 'Total Paid Amount',\n",
       " 'Member Network Name',\n",
       " 'Facility Status',\n",
       " 'Hospital or Clinic Name',\n",
       " 'Place of Service City',\n",
       " 'Place of Service Zip Code',\n",
       " 'Provider NPI',\n",
       " 'Provider Name',\n",
       " 'Contract ID',\n",
       " 'Contract Name',\n",
       " 'Pricing ID',\n",
       " 'Pricing Type',\n",
       " 'Member Service Area',\n",
       " 'Health System',\n",
       " 'Service Type']"
      ]
     },
     "execution_count": 5,
     "metadata": {},
     "output_type": "execute_result"
    }
   ],
   "source": [
    "# print all useless labels\n",
    "useless"
   ]
  },
  {
   "cell_type": "code",
   "execution_count": 6,
   "id": "86b11d22-9eca-42b6-bd6d-11763c95169e",
   "metadata": {
    "tags": []
   },
   "outputs": [],
   "source": [
    "# drop useless labels\n",
    "df = df.drop(useless, axis=1)"
   ]
  },
  {
   "cell_type": "code",
   "execution_count": 7,
   "id": "7487eea4-96cc-4994-a26f-08418a3a5f37",
   "metadata": {},
   "outputs": [],
   "source": [
    "# some labels are redundant, they explain the meaning behind medical codes which are also in the data\n",
    "redundant_labels = [\"LOB Description\", \"Place of Service Type\", \"Primary Diagnosis\", \"DRG Name\", \"Procedure Name\", \"Revenue Code Name\", \"Method to Pay\"]\n",
    "# uncomment if you want to drop these\n",
    "df = df.drop(redundant_labels, axis=1)"
   ]
  },
  {
   "cell_type": "code",
   "execution_count": 8,
   "id": "f3fcae1c-6a70-4298-baba-f7eb079326b9",
   "metadata": {},
   "outputs": [],
   "source": [
    "# some labels are just alphanumeric strings\n",
    "alphanum_labels = [\"Alt Member Number\", \"PAT_MRN_ID\", \"Coverage ID\", \"Claim ID\", \"Vendor ID\", \"Vendor NPI\", \"Vendor Tax ID\", \"Provider ID\"]\n",
    "# uncomment if you want to drop these\n",
    "df = df.drop(alphanum_labels, axis=1)"
   ]
  },
  {
   "cell_type": "code",
   "execution_count": 9,
   "id": "ddd82122-9de0-47b1-95e2-b87bb00af637",
   "metadata": {
    "tags": []
   },
   "outputs": [
    {
     "data": {
      "text/plain": [
       "(2374928, 38)"
      ]
     },
     "execution_count": 9,
     "metadata": {},
     "output_type": "execute_result"
    }
   ],
   "source": [
    "# around 53 columns if you drop only empty columns\n",
    "# 38 if you drop redundant and alphanumeric columns as well\n",
    "df.shape"
   ]
  },
  {
   "cell_type": "code",
   "execution_count": 10,
   "id": "6fd516cb-9885-4035-8d7a-28a917e76b23",
   "metadata": {},
   "outputs": [],
   "source": [
    "# convert all string bools into real bools\n",
    "# probably not the best way to do it\n",
    "yn_map = {\"Y\":True, \"N\": False, \"YES\": True, \"Yes\": True, \"No\": False, \"NO\": False }\n",
    "df[\"Fraud YN\"] = df[\"Fraud YN\"].map( yn_map )\n",
    "df[\"True Plan\"] = df[\"True Plan\"].map( yn_map )\n",
    "df[\"DRG Pricing YN\"] = df[\"DRG Pricing YN\"].map( yn_map )"
   ]
  },
  {
   "cell_type": "code",
   "execution_count": 11,
   "id": "c150d531-8715-41bd-a1cd-dc759877761e",
   "metadata": {
    "tags": []
   },
   "outputs": [],
   "source": [
    "# write csv to new file\n",
    "new_file_name = \"../../data/NewDSU.csv\"\n",
    "# uncomment to write to file\n",
    "#df.to_csv(new_file_name)"
   ]
  }
 ],
 "metadata": {
  "kernelspec": {
   "display_name": "Python 3 (ipykernel)",
   "language": "python",
   "name": "python3"
  },
  "language_info": {
   "codemirror_mode": {
    "name": "ipython",
    "version": 3
   },
   "file_extension": ".py",
   "mimetype": "text/x-python",
   "name": "python",
   "nbconvert_exporter": "python",
   "pygments_lexer": "ipython3",
   "version": "3.11.6"
  }
 },
 "nbformat": 4,
 "nbformat_minor": 5
}
